{
 "cells": [
  {
   "cell_type": "code",
   "execution_count": 1,
   "id": "5f5a12f6",
   "metadata": {},
   "outputs": [
    {
     "data": {
      "text/html": [
       "<style>.container { width:85% !important; }</style>"
      ],
      "text/plain": [
       "<IPython.core.display.HTML object>"
      ]
     },
     "metadata": {},
     "output_type": "display_data"
    }
   ],
   "source": [
    "# Makes the display take up more of the screen\n",
    "from IPython.display import display, HTML\n",
    "display(HTML(\"<style>.container { width:85% !important; }</style>\"))"
   ]
  },
  {
   "cell_type": "code",
   "execution_count": 2,
   "id": "d3de072a",
   "metadata": {},
   "outputs": [],
   "source": [
    "from fastai.basics import *\n",
    "from fastai.vision.all import *\n",
    "from fastai.callback.all import *"
   ]
  },
  {
   "cell_type": "code",
   "execution_count": 5,
   "id": "5246a834",
   "metadata": {},
   "outputs": [],
   "source": [
    "path = untar_data(URLs.PETS)"
   ]
  },
  {
   "cell_type": "code",
   "execution_count": 6,
   "id": "18821c11",
   "metadata": {},
   "outputs": [
    {
     "data": {
      "text/plain": [
       "(#2) [Path('/home/stev/.fastai/data/oxford-iiit-pet/images'),Path('/home/stev/.fastai/data/oxford-iiit-pet/annotations')]"
      ]
     },
     "execution_count": 6,
     "metadata": {},
     "output_type": "execute_result"
    }
   ],
   "source": [
    "path.ls()"
   ]
  },
  {
   "cell_type": "code",
   "execution_count": 8,
   "id": "206f04de",
   "metadata": {},
   "outputs": [],
   "source": [
    "path_im = path/'images'"
   ]
  },
  {
   "cell_type": "code",
   "execution_count": 9,
   "id": "0686c512",
   "metadata": {},
   "outputs": [
    {
     "data": {
      "text/plain": [
       "Path('/home/stev/.fastai/data/oxford-iiit-pet/images/scottish_terrier_27.jpg')"
      ]
     },
     "execution_count": 9,
     "metadata": {},
     "output_type": "execute_result"
    }
   ],
   "source": [
    "fname=path_im.ls()[0];fname"
   ]
  },
  {
   "cell_type": "code",
   "execution_count": 10,
   "id": "ca403c08",
   "metadata": {},
   "outputs": [],
   "source": [
    "reg=RegexLabeller(pat = r'/([^/]+)_\\d+.*')"
   ]
  },
  {
   "cell_type": "code",
   "execution_count": 11,
   "id": "3ef84416",
   "metadata": {},
   "outputs": [],
   "source": [
    "sz=(16,16)\n",
    "bs=24\n",
    "n_channels=3"
   ]
  },
  {
   "cell_type": "code",
   "execution_count": 12,
   "id": "61abc16b",
   "metadata": {},
   "outputs": [],
   "source": [
    "btfms = aug_transforms()#+[Normalize.from_stats(*imagenet_stats)]\n",
    "\n",
    "#Normalize.from_stats(*([0.5]*n_channels,[0.25]*n_channels))]"
   ]
  },
  {
   "cell_type": "code",
   "execution_count": 13,
   "id": "fd27a4cd",
   "metadata": {},
   "outputs": [],
   "source": [
    "def x_equals_y(o): return o"
   ]
  },
  {
   "cell_type": "code",
   "execution_count": 14,
   "id": "13a79821",
   "metadata": {},
   "outputs": [],
   "source": [
    "block = DataBlock(\n",
    "    blocks=(ImageBlock, ImageBlock), \n",
    "    get_items=get_image_files, \n",
    "    splitter=RandomSplitter(0.2),\n",
    "    get_y=x_equals_y,\n",
    "    item_tfms=[Resize(sz, method='squish')],\n",
    "    batch_tfms=btfms)"
   ]
  },
  {
   "cell_type": "code",
   "execution_count": 15,
   "id": "fac5cb3f",
   "metadata": {},
   "outputs": [],
   "source": [
    "dls=block.dataloaders(path_im, batch_size=bs, num_workers=0)"
   ]
  },
  {
   "cell_type": "code",
   "execution_count": 16,
   "id": "323b4dc1",
   "metadata": {},
   "outputs": [
    {
     "data": {
      "image/png": "[encoded data removed]",
      "text/plain": [
       "<Figure size 864x216 with 4 Axes>"
      ]
     },
     "metadata": {
      "needs_background": "light"
     },
     "output_type": "display_data"
    }
   ],
   "source": [
    "dls.show_batch(max_n=2)"
   ]
  },
  {
   "cell_type": "code",
   "execution_count": null,
   "id": "0976647d",
   "metadata": {},
   "outputs": [],
   "source": []
  },
  {
   "cell_type": "code",
   "execution_count": 17,
   "id": "e17c08f7",
   "metadata": {},
   "outputs": [],
   "source": [
    "class VAE(nn.Module):\n",
    "    def __init__(self, hdim=20, channels=3, im_sz=(64,64)):\n",
    "        \"\"\"\n",
    "        Variational Autoencoder that is easily adaptable to different image sizes\n",
    "        :param size_in: Size of the image in a single dimension. For example: 28 for MNIST\n",
    "        :param size_emb: Size of the latent space encoding. (default: 5)\n",
    "        :param enc_siz: The hidden layer sizes for the encoder. Must contain at least one layer.\n",
    "        :param dec_siz: The hidden layer size for the decoder. Must contain at least one layer.\n",
    "        :param channels: Number of channels in the in and output. (default: 3)\n",
    "        \"\"\"\n",
    "        super(VAE, self).__init__()        \n",
    "        \n",
    "        self.n_conv= 3\n",
    "        self.channels=channels\n",
    "        self.im_sz=im_sz\n",
    "        self.fltn_sz = np.product(np.concatenate([[32],np.array(self.im_sz)-2*self.n_conv]))\n",
    "        self.mu = None\n",
    "        self.logvar = None\n",
    "        self.lin_sz = 128\n",
    "        \n",
    "        \n",
    "        # Encoder layers\n",
    "        self.enc_conv1 = nn.Conv2d(self.channels, 32, 3)\n",
    "        self.enc_conv2 = nn.Conv2d(32, 32, 3)\n",
    "        self.enc_conv3 = nn.Conv2d(32, 32, 3)\n",
    "        self.enc_fc1 = nn.Linear(self.fltn_sz, self.lin_sz)\n",
    "        self.enc_fc2_mean = nn.Linear(self.lin_sz, hdim)\n",
    "        self.enc_fc2_logvar = nn.Linear(self.lin_sz, hdim)\n",
    "\n",
    "        # Decoder layers\n",
    "        self.dec_fc1 = nn.Linear(hdim, self.lin_sz)\n",
    "        self.dec_fc2 = nn.Linear(self.lin_sz, self.fltn_sz)\n",
    "        unflt_sz0=self.im_sz[0]-2*self.n_conv\n",
    "        unflt_sz1=self.im_sz[1]-2*self.n_conv\n",
    "        \n",
    "        self.dec_unflatten = nn.Unflatten(dim=-1, unflattened_size=(32,unflt_sz0,unflt_sz1))\n",
    "        self.dec_conv1 = nn.ConvTranspose2d(32, 32, 3)\n",
    "        self.dec_conv2 = nn.ConvTranspose2d(32, 32, 3)\n",
    "        self.dec_conv3 = nn.ConvTranspose2d(32, self.channels, 3)\n",
    "        \n",
    "\n",
    "    def encode(self, x):\n",
    "        x = self.enc_conv1((x-0.5)/0.5)\n",
    "        x = F.relu(x)\n",
    "        x = self.enc_conv2(x)\n",
    "        x = F.relu(x)\n",
    "        x = self.enc_conv3(x)\n",
    "        x = F.relu(x)\n",
    "        x = torch.flatten(x, 1)\n",
    "        x = self.enc_fc1(x)\n",
    "        x = F.relu(x)\n",
    "        mean = self.enc_fc2_mean(x)\n",
    "        logvar = self.enc_fc2_logvar(x)\n",
    "        return mean, logvar\n",
    "\n",
    "    @staticmethod\n",
    "    def reparameterize(mu, logvar):\n",
    "        std = torch.exp(0.5*logvar) # refactored std = torch.sqrt(torch.exp(logvar))\n",
    "        eps = torch.randn_like(std) # This isn't dependant on mean or logvar\n",
    "        return mu + eps * std # So we can trace gradients back through this operation\n",
    "\n",
    "    def decode(self, x):\n",
    "        x = self.dec_fc1(x)\n",
    "        x = F.relu(x)\n",
    "        x = self.dec_fc2(x)\n",
    "        x = F.relu(x)\n",
    "        x = self.dec_unflatten(x)\n",
    "        x = self.dec_conv1(x)\n",
    "        x = F.relu(x)\n",
    "        x = self.dec_conv2(x)\n",
    "        x = F.relu(x)\n",
    "        x = self.dec_conv3(x)\n",
    "        x = torch.sigmoid(x)\n",
    "        return x #* 6.-3.\n",
    "    \n",
    "\n",
    "    def forward(self, x, return_dist = False):\n",
    "        mean, logvar = self.encode(x) # Predict a distribution\n",
    "        z = self.reparameterize(mean, logvar) # Sample from it\n",
    "        self.mu = mean\n",
    "        self.logvar = logvar        \n",
    "        if return_dist: return self.decode(z), mean, logvar         \n",
    "        return self.decode(z)\n",
    "\n",
    "\n",
    "    def vae_loss_function(self, pred, target):\n",
    "        \"\"\"Reconstruction Error + KL divergence losses summed over all elements and batch\"\"\"\n",
    "        BCE = F.binary_cross_entropy(pred, target, reduction='sum')\n",
    "        KLD = -0.5 * torch.sum(1 + self.logvar - self.mu.pow(2) - self.logvar.exp())\n",
    "        return BCE + KLD"
   ]
  },
  {
   "cell_type": "code",
   "execution_count": 18,
   "id": "079f3a49",
   "metadata": {},
   "outputs": [],
   "source": [
    "vae = VAE(hdim=20, channels=n_channels, im_sz=sz)"
   ]
  },
  {
   "cell_type": "code",
   "execution_count": 19,
   "id": "4f8ac4bb",
   "metadata": {},
   "outputs": [],
   "source": [
    "opt_func = partial(Adam, eps=1e-5)"
   ]
  },
  {
   "cell_type": "code",
   "execution_count": 20,
   "id": "2f6097ee",
   "metadata": {},
   "outputs": [],
   "source": [
    "learn = Learner(dls,vae,\n",
    "                 opt_func=opt_func,\n",
    "                 loss_func=vae.vae_loss_function) #"
   ]
  },
  {
   "cell_type": "code",
   "execution_count": 21,
   "id": "836fc415",
   "metadata": {},
   "outputs": [
    {
     "data": {
      "text/html": [
       "\n",
       "<style>\n",
       "    /* Turns off some styling */\n",
       "    progress {\n",
       "        /* gets rid of default border in Firefox and Opera. */\n",
       "        border: none;\n",
       "        /* Needs to be in here for Safari polyfill so background images work as expected. */\n",
       "        background-size: auto;\n",
       "    }\n",
       "    progress:not([value]), progress:not([value])::-webkit-progress-bar {\n",
       "        background: repeating-linear-gradient(45deg, #7e7e7e, #7e7e7e 10px, #5c5c5c 10px, #5c5c5c 20px);\n",
       "    }\n",
       "    .progress-bar-interrupted, .progress-bar-interrupted::-webkit-progress-bar {\n",
       "        background: #F44336;\n",
       "    }\n",
       "</style>\n"
      ],
      "text/plain": [
       "<IPython.core.display.HTML object>"
      ]
     },
     "metadata": {},
     "output_type": "display_data"
    },
    {
     "data": {
      "text/html": [],
      "text/plain": [
       "<IPython.core.display.HTML object>"
      ]
     },
     "metadata": {},
     "output_type": "display_data"
    },
    {
     "data": {
      "text/plain": [
       "VAE (Input shape: 24 x 3 x 16 x 16)\n",
       "============================================================================\n",
       "Layer (type)         Output Shape         Param #    Trainable \n",
       "============================================================================\n",
       "                     24 x 32 x 14 x 14   \n",
       "Conv2d                                    896        True      \n",
       "____________________________________________________________________________\n",
       "                     24 x 32 x 12 x 12   \n",
       "Conv2d                                    9248       True      \n",
       "____________________________________________________________________________\n",
       "                     24 x 32 x 10 x 10   \n",
       "Conv2d                                    9248       True      \n",
       "____________________________________________________________________________\n",
       "                     24 x 128            \n",
       "Linear                                    409728     True      \n",
       "____________________________________________________________________________\n",
       "                     24 x 20             \n",
       "Linear                                    2580       True      \n",
       "Linear                                    2580       True      \n",
       "____________________________________________________________________________\n",
       "                     24 x 128            \n",
       "Linear                                    2688       True      \n",
       "____________________________________________________________________________\n",
       "                     24 x 3200           \n",
       "Linear                                    412800     True      \n",
       "____________________________________________________________________________\n",
       "                     24 x 32 x 10 x 10   \n",
       "Unflatten                                                      \n",
       "____________________________________________________________________________\n",
       "                     24 x 32 x 12 x 12   \n",
       "ConvTranspose2d                           9248       True      \n",
       "____________________________________________________________________________\n",
       "                     24 x 32 x 14 x 14   \n",
       "ConvTranspose2d                           9248       True      \n",
       "____________________________________________________________________________\n",
       "                     24 x 3 x 16 x 16    \n",
       "ConvTranspose2d                           867        True      \n",
       "____________________________________________________________________________\n",
       "\n",
       "Total params: 869,131\n",
       "Total trainable params: 869,131\n",
       "Total non-trainable params: 0\n",
       "\n",
       "Optimizer used: functools.partial(<function Adam at 0x7fa3e3f25240>, eps=1e-05)\n",
       "Loss function: <bound method VAE.vae_loss_function of VAE(\n",
       "  (enc_conv1): Conv2d(3, 32, kernel_size=(3, 3), stride=(1, 1))\n",
       "  (enc_conv2): Conv2d(32, 32, kernel_size=(3, 3), stride=(1, 1))\n",
       "  (enc_conv3): Conv2d(32, 32, kernel_size=(3, 3), stride=(1, 1))\n",
       "  (enc_fc1): Linear(in_features=3200, out_features=128, bias=True)\n",
       "  (enc_fc2_mean): Linear(in_features=128, out_features=20, bias=True)\n",
       "  (enc_fc2_logvar): Linear(in_features=128, out_features=20, bias=True)\n",
       "  (dec_fc1): Linear(in_features=20, out_features=128, bias=True)\n",
       "  (dec_fc2): Linear(in_features=128, out_features=3200, bias=True)\n",
       "  (dec_unflatten): Unflatten(dim=-1, unflattened_size=(32, 10, 10))\n",
       "  (dec_conv1): ConvTranspose2d(32, 32, kernel_size=(3, 3), stride=(1, 1))\n",
       "  (dec_conv2): ConvTranspose2d(32, 32, kernel_size=(3, 3), stride=(1, 1))\n",
       "  (dec_conv3): ConvTranspose2d(32, 3, kernel_size=(3, 3), stride=(1, 1))\n",
       ")>\n",
       "\n",
       "Callbacks:\n",
       "  - TrainEvalCallback\n",
       "  - CastToTensor\n",
       "  - Recorder\n",
       "  - ProgressCallback"
      ]
     },
     "execution_count": 21,
     "metadata": {},
     "output_type": "execute_result"
    }
   ],
   "source": [
    "learn.summary()"
   ]
  },
  {
   "cell_type": "code",
   "execution_count": 22,
   "id": "12b13f51",
   "metadata": {},
   "outputs": [
    {
     "data": {
      "text/html": [
       "\n",
       "<style>\n",
       "    /* Turns off some styling */\n",
       "    progress {\n",
       "        /* gets rid of default border in Firefox and Opera. */\n",
       "        border: none;\n",
       "        /* Needs to be in here for Safari polyfill so background images work as expected. */\n",
       "        background-size: auto;\n",
       "    }\n",
       "    progress:not([value]), progress:not([value])::-webkit-progress-bar {\n",
       "        background: repeating-linear-gradient(45deg, #7e7e7e, #7e7e7e 10px, #5c5c5c 10px, #5c5c5c 20px);\n",
       "    }\n",
       "    .progress-bar-interrupted, .progress-bar-interrupted::-webkit-progress-bar {\n",
       "        background: #F44336;\n",
       "    }\n",
       "</style>\n"
      ],
      "text/plain": [
       "<IPython.core.display.HTML object>"
      ]
     },
     "metadata": {},
     "output_type": "display_data"
    },
    {
     "data": {
      "text/html": [],
      "text/plain": [
       "<IPython.core.display.HTML object>"
      ]
     },
     "metadata": {},
     "output_type": "display_data"
    },
    {
     "data": {
      "text/plain": [
       "SuggestedLRs(valley=0.004365158267319202, slide=6.309573450380412e-07)"
      ]
     },
     "execution_count": 22,
     "metadata": {},
     "output_type": "execute_result"
    },
    {
     "data": {
      "image/png": "[encoded data removed]",
      "text/plain": [
       "<Figure size 432x288 with 1 Axes>"
      ]
     },
     "metadata": {
      "needs_background": "light"
     },
     "output_type": "display_data"
    }
   ],
   "source": [
    "learn.lr_find(suggest_funcs=(valley, slide))"
   ]
  },
  {
   "cell_type": "code",
   "execution_count": 23,
   "id": "fc7bd7e7",
   "metadata": {},
   "outputs": [
    {
     "data": {
      "text/html": [
       "\n",
       "<style>\n",
       "    /* Turns off some styling */\n",
       "    progress {\n",
       "        /* gets rid of default border in Firefox and Opera. */\n",
       "        border: none;\n",
       "        /* Needs to be in here for Safari polyfill so background images work as expected. */\n",
       "        background-size: auto;\n",
       "    }\n",
       "    progress:not([value]), progress:not([value])::-webkit-progress-bar {\n",
       "        background: repeating-linear-gradient(45deg, #7e7e7e, #7e7e7e 10px, #5c5c5c 10px, #5c5c5c 20px);\n",
       "    }\n",
       "    .progress-bar-interrupted, .progress-bar-interrupted::-webkit-progress-bar {\n",
       "        background: #F44336;\n",
       "    }\n",
       "</style>\n"
      ],
      "text/plain": [
       "<IPython.core.display.HTML object>"
      ]
     },
     "metadata": {},
     "output_type": "display_data"
    },
    {
     "data": {
      "text/html": [
       "<table border=\"1\" class=\"dataframe\">\n",
       "  <thead>\n",
       "    <tr style=\"text-align: left;\">\n",
       "      <th>epoch</th>\n",
       "      <th>train_loss</th>\n",
       "      <th>valid_loss</th>\n",
       "      <th>time</th>\n",
       "    </tr>\n",
       "  </thead>\n",
       "  <tbody>\n",
       "    <tr>\n",
       "      <td>0</td>\n",
       "      <td>12037.268555</td>\n",
       "      <td>11830.051758</td>\n",
       "      <td>01:02</td>\n",
       "    </tr>\n",
       "    <tr>\n",
       "      <td>1</td>\n",
       "      <td>11716.977539</td>\n",
       "      <td>11605.492188</td>\n",
       "      <td>00:59</td>\n",
       "    </tr>\n",
       "    <tr>\n",
       "      <td>2</td>\n",
       "      <td>11656.057617</td>\n",
       "      <td>11609.421875</td>\n",
       "      <td>00:59</td>\n",
       "    </tr>\n",
       "    <tr>\n",
       "      <td>3</td>\n",
       "      <td>11615.532227</td>\n",
       "      <td>11574.625000</td>\n",
       "      <td>00:59</td>\n",
       "    </tr>\n",
       "    <tr>\n",
       "      <td>4</td>\n",
       "      <td>11612.385742</td>\n",
       "      <td>11601.592773</td>\n",
       "      <td>00:59</td>\n",
       "    </tr>\n",
       "    <tr>\n",
       "      <td>5</td>\n",
       "      <td>11576.591797</td>\n",
       "      <td>11470.943359</td>\n",
       "      <td>00:59</td>\n",
       "    </tr>\n",
       "    <tr>\n",
       "      <td>6</td>\n",
       "      <td>11566.827148</td>\n",
       "      <td>11484.622070</td>\n",
       "      <td>00:59</td>\n",
       "    </tr>\n",
       "    <tr>\n",
       "      <td>7</td>\n",
       "      <td>11517.948242</td>\n",
       "      <td>11439.761719</td>\n",
       "      <td>00:59</td>\n",
       "    </tr>\n",
       "    <tr>\n",
       "      <td>8</td>\n",
       "      <td>11493.441406</td>\n",
       "      <td>11440.118164</td>\n",
       "      <td>00:59</td>\n",
       "    </tr>\n",
       "    <tr>\n",
       "      <td>9</td>\n",
       "      <td>11455.741211</td>\n",
       "      <td>11418.449219</td>\n",
       "      <td>00:59</td>\n",
       "    </tr>\n",
       "    <tr>\n",
       "      <td>10</td>\n",
       "      <td>11431.218750</td>\n",
       "      <td>11415.270508</td>\n",
       "      <td>00:59</td>\n",
       "    </tr>\n",
       "    <tr>\n",
       "      <td>11</td>\n",
       "      <td>11475.312500</td>\n",
       "      <td>11391.347656</td>\n",
       "      <td>00:59</td>\n",
       "    </tr>\n",
       "    <tr>\n",
       "      <td>12</td>\n",
       "      <td>11450.165039</td>\n",
       "      <td>11387.499023</td>\n",
       "      <td>01:00</td>\n",
       "    </tr>\n",
       "    <tr>\n",
       "      <td>13</td>\n",
       "      <td>11428.039062</td>\n",
       "      <td>11382.485352</td>\n",
       "      <td>01:00</td>\n",
       "    </tr>\n",
       "    <tr>\n",
       "      <td>14</td>\n",
       "      <td>11477.706055</td>\n",
       "      <td>11382.565430</td>\n",
       "      <td>01:00</td>\n",
       "    </tr>\n",
       "  </tbody>\n",
       "</table>"
      ],
      "text/plain": [
       "<IPython.core.display.HTML object>"
      ]
     },
     "metadata": {},
     "output_type": "display_data"
    }
   ],
   "source": [
    "lr=0.01\n",
    "learn.fit_one_cycle(15, lr_max=lr)"
   ]
  },
  {
   "cell_type": "code",
   "execution_count": 24,
   "id": "10ea049d",
   "metadata": {
    "scrolled": true
   },
   "outputs": [
    {
     "data": {
      "text/html": [
       "\n",
       "<style>\n",
       "    /* Turns off some styling */\n",
       "    progress {\n",
       "        /* gets rid of default border in Firefox and Opera. */\n",
       "        border: none;\n",
       "        /* Needs to be in here for Safari polyfill so background images work as expected. */\n",
       "        background-size: auto;\n",
       "    }\n",
       "    progress:not([value]), progress:not([value])::-webkit-progress-bar {\n",
       "        background: repeating-linear-gradient(45deg, #7e7e7e, #7e7e7e 10px, #5c5c5c 10px, #5c5c5c 20px);\n",
       "    }\n",
       "    .progress-bar-interrupted, .progress-bar-interrupted::-webkit-progress-bar {\n",
       "        background: #F44336;\n",
       "    }\n",
       "</style>\n"
      ],
      "text/plain": [
       "<IPython.core.display.HTML object>"
      ]
     },
     "metadata": {},
     "output_type": "display_data"
    },
    {
     "data": {
      "text/html": [],
      "text/plain": [
       "<IPython.core.display.HTML object>"
      ]
     },
     "metadata": {},
     "output_type": "display_data"
    },
    {
     "data": {
      "image/png": "[encoded data removed]",
      "text/plain": [
       "<Figure size 648x1944 with 27 Axes>"
      ]
     },
     "metadata": {
      "needs_background": "light"
     },
     "output_type": "display_data"
    }
   ],
   "source": [
    "learn.show_results()"
   ]
  },
  {
   "cell_type": "code",
   "execution_count": null,
   "id": "3ae204ae",
   "metadata": {},
   "outputs": [],
   "source": []
  },
  {
   "cell_type": "code",
   "execution_count": null,
   "id": "98c8e88f",
   "metadata": {},
   "outputs": [],
   "source": []
  },
  {
   "cell_type": "code",
   "execution_count": null,
   "id": "656f2e2a",
   "metadata": {},
   "outputs": [],
   "source": []
  },
  {
   "cell_type": "code",
   "execution_count": null,
   "id": "64011932",
   "metadata": {},
   "outputs": [],
   "source": []
  },
  {
   "cell_type": "code",
   "execution_count": 25,
   "id": "a8cabf7b",
   "metadata": {
    "scrolled": true
   },
   "outputs": [
    {
     "data": {
      "text/html": [
       "\n",
       "<style>\n",
       "    /* Turns off some styling */\n",
       "    progress {\n",
       "        /* gets rid of default border in Firefox and Opera. */\n",
       "        border: none;\n",
       "        /* Needs to be in here for Safari polyfill so background images work as expected. */\n",
       "        background-size: auto;\n",
       "    }\n",
       "    progress:not([value]), progress:not([value])::-webkit-progress-bar {\n",
       "        background: repeating-linear-gradient(45deg, #7e7e7e, #7e7e7e 10px, #5c5c5c 10px, #5c5c5c 20px);\n",
       "    }\n",
       "    .progress-bar-interrupted, .progress-bar-interrupted::-webkit-progress-bar {\n",
       "        background: #F44336;\n",
       "    }\n",
       "</style>\n"
      ],
      "text/plain": [
       "<IPython.core.display.HTML object>"
      ]
     },
     "metadata": {},
     "output_type": "display_data"
    },
    {
     "data": {
      "text/html": [],
      "text/plain": [
       "<IPython.core.display.HTML object>"
      ]
     },
     "metadata": {},
     "output_type": "display_data"
    },
    {
     "data": {
      "image/png": "[encoded data removed]",
      "text/plain": [
       "<Figure size 864x504 with 3 Axes>"
      ]
     },
     "metadata": {},
     "output_type": "display_data"
    }
   ],
   "source": [
    "im=PILImage.create(fname)\n",
    "x_in, clss, idx, prob =learn.predict(im, with_input=True)\n",
    "mse = MSELossFlat()\n",
    "\n",
    "#PLOTTING\n",
    "fig,ax = subplots(1, 3, figsize=(12,7))\n",
    "ax[0].imshow(np.array(im))\n",
    "ax[1].imshow(np.transpose(x_in, axes=(1,2,0)))\n",
    "ax[2].imshow(np.transpose(clss, axes=(1,2,0)))\n",
    "\n",
    "for i, dscrip in enumerate(['Original Image',\n",
    "                            'Preprocessed Input Image', \n",
    "                            'Prediction']):    \n",
    "\n",
    "    ax[i].set_title(f'{dscrip}')\n",
    "    ax[i].set_xticks([]) \n",
    "    ax[i].set_yticks([]) \n",
    "    ax[i].axis('off')\n",
    "fl=str(fname).split(\"\\\\\")[-1].split('.')[0]\n",
    "fig.suptitle(f'{fl}\\nReconstruction Error: {float(mse(clss/255, x_in/255)):.5f}',y=0.85,  weight='bold', size=14)\n",
    "plt.show()"
   ]
  },
  {
   "cell_type": "code",
   "execution_count": 26,
   "id": "e8587705",
   "metadata": {},
   "outputs": [],
   "source": [
    "int2float=IntToFloatTensor()\n",
    "mean, logvar=vae.encode(to_device(int2float.encodes(x_in))[None,:]) #convert int to float, add dim so shape is (1,3,16,16), and put on GPU"
   ]
  },
  {
   "cell_type": "code",
   "execution_count": 27,
   "id": "70f7f6e1",
   "metadata": {},
   "outputs": [],
   "source": [
    "z=vae.reparameterize(mean, logvar)"
   ]
  },
  {
   "cell_type": "code",
   "execution_count": 28,
   "id": "f3f7f8e4",
   "metadata": {},
   "outputs": [],
   "source": [
    "mean = mean.cpu().detach().numpy().squeeze()\n",
    "std = torch.exp(0.5*logvar).cpu().detach().numpy().squeeze()\n",
    "z = z.cpu().detach().numpy().squeeze()"
   ]
  },
  {
   "cell_type": "code",
   "execution_count": 29,
   "id": "358abc1e",
   "metadata": {},
   "outputs": [
    {
     "data": {
      "text/html": [
       "<div>\n",
       "<style scoped>\n",
       "    .dataframe tbody tr th:only-of-type {\n",
       "        vertical-align: middle;\n",
       "    }\n",
       "\n",
       "    .dataframe tbody tr th {\n",
       "        vertical-align: top;\n",
       "    }\n",
       "\n",
       "    .dataframe thead th {\n",
       "        text-align: right;\n",
       "    }\n",
       "</style>\n",
       "<table border=\"1\" class=\"dataframe\">\n",
       "  <thead>\n",
       "    <tr style=\"text-align: right;\">\n",
       "      <th></th>\n",
       "      <th>mean</th>\n",
       "      <th>std</th>\n",
       "      <th>z</th>\n",
       "    </tr>\n",
       "  </thead>\n",
       "  <tbody>\n",
       "    <tr>\n",
       "      <th>0</th>\n",
       "      <td>-0.023101</td>\n",
       "      <td>1.006613</td>\n",
       "      <td>0.445674</td>\n",
       "    </tr>\n",
       "    <tr>\n",
       "      <th>1</th>\n",
       "      <td>-0.353257</td>\n",
       "      <td>0.229952</td>\n",
       "      <td>-0.597072</td>\n",
       "    </tr>\n",
       "    <tr>\n",
       "      <th>2</th>\n",
       "      <td>-0.010023</td>\n",
       "      <td>0.998934</td>\n",
       "      <td>0.222565</td>\n",
       "    </tr>\n",
       "    <tr>\n",
       "      <th>3</th>\n",
       "      <td>0.506457</td>\n",
       "      <td>0.277706</td>\n",
       "      <td>0.695470</td>\n",
       "    </tr>\n",
       "    <tr>\n",
       "      <th>4</th>\n",
       "      <td>-0.582715</td>\n",
       "      <td>0.483287</td>\n",
       "      <td>-0.881697</td>\n",
       "    </tr>\n",
       "    <tr>\n",
       "      <th>5</th>\n",
       "      <td>-0.027923</td>\n",
       "      <td>0.990582</td>\n",
       "      <td>-0.540568</td>\n",
       "    </tr>\n",
       "    <tr>\n",
       "      <th>6</th>\n",
       "      <td>-0.000303</td>\n",
       "      <td>0.996724</td>\n",
       "      <td>0.037122</td>\n",
       "    </tr>\n",
       "    <tr>\n",
       "      <th>7</th>\n",
       "      <td>-0.057521</td>\n",
       "      <td>0.995744</td>\n",
       "      <td>-0.305425</td>\n",
       "    </tr>\n",
       "    <tr>\n",
       "      <th>8</th>\n",
       "      <td>-0.337349</td>\n",
       "      <td>0.317423</td>\n",
       "      <td>-0.687192</td>\n",
       "    </tr>\n",
       "    <tr>\n",
       "      <th>9</th>\n",
       "      <td>-1.766562</td>\n",
       "      <td>0.438383</td>\n",
       "      <td>-1.786851</td>\n",
       "    </tr>\n",
       "    <tr>\n",
       "      <th>10</th>\n",
       "      <td>-1.156485</td>\n",
       "      <td>0.357854</td>\n",
       "      <td>-0.656683</td>\n",
       "    </tr>\n",
       "    <tr>\n",
       "      <th>11</th>\n",
       "      <td>-0.025353</td>\n",
       "      <td>0.993920</td>\n",
       "      <td>1.386685</td>\n",
       "    </tr>\n",
       "    <tr>\n",
       "      <th>12</th>\n",
       "      <td>-0.047350</td>\n",
       "      <td>0.995943</td>\n",
       "      <td>1.114689</td>\n",
       "    </tr>\n",
       "    <tr>\n",
       "      <th>13</th>\n",
       "      <td>-0.038709</td>\n",
       "      <td>0.993823</td>\n",
       "      <td>-0.266255</td>\n",
       "    </tr>\n",
       "    <tr>\n",
       "      <th>14</th>\n",
       "      <td>0.099255</td>\n",
       "      <td>0.997219</td>\n",
       "      <td>0.451920</td>\n",
       "    </tr>\n",
       "    <tr>\n",
       "      <th>15</th>\n",
       "      <td>-0.011633</td>\n",
       "      <td>0.992023</td>\n",
       "      <td>0.329197</td>\n",
       "    </tr>\n",
       "    <tr>\n",
       "      <th>16</th>\n",
       "      <td>-1.455165</td>\n",
       "      <td>0.142568</td>\n",
       "      <td>-1.160260</td>\n",
       "    </tr>\n",
       "    <tr>\n",
       "      <th>17</th>\n",
       "      <td>-0.009240</td>\n",
       "      <td>0.999266</td>\n",
       "      <td>-0.827556</td>\n",
       "    </tr>\n",
       "    <tr>\n",
       "      <th>18</th>\n",
       "      <td>0.004600</td>\n",
       "      <td>0.988231</td>\n",
       "      <td>-0.697527</td>\n",
       "    </tr>\n",
       "    <tr>\n",
       "      <th>19</th>\n",
       "      <td>0.024901</td>\n",
       "      <td>0.996886</td>\n",
       "      <td>-0.140409</td>\n",
       "    </tr>\n",
       "  </tbody>\n",
       "</table>\n",
       "</div>"
      ],
      "text/plain": [
       "        mean       std         z\n",
       "0  -0.023101  1.006613  0.445674\n",
       "1  -0.353257  0.229952 -0.597072\n",
       "2  -0.010023  0.998934  0.222565\n",
       "3   0.506457  0.277706  0.695470\n",
       "4  -0.582715  0.483287 -0.881697\n",
       "5  -0.027923  0.990582 -0.540568\n",
       "6  -0.000303  0.996724  0.037122\n",
       "7  -0.057521  0.995744 -0.305425\n",
       "8  -0.337349  0.317423 -0.687192\n",
       "9  -1.766562  0.438383 -1.786851\n",
       "10 -1.156485  0.357854 -0.656683\n",
       "11 -0.025353  0.993920  1.386685\n",
       "12 -0.047350  0.995943  1.114689\n",
       "13 -0.038709  0.993823 -0.266255\n",
       "14  0.099255  0.997219  0.451920\n",
       "15 -0.011633  0.992023  0.329197\n",
       "16 -1.455165  0.142568 -1.160260\n",
       "17 -0.009240  0.999266 -0.827556\n",
       "18  0.004600  0.988231 -0.697527\n",
       "19  0.024901  0.996886 -0.140409"
      ]
     },
     "execution_count": 29,
     "metadata": {},
     "output_type": "execute_result"
    }
   ],
   "source": [
    "pd.DataFrame(np.c_[mean, std, z], columns=['mean','std','z'])"
   ]
  },
  {
   "cell_type": "code",
   "execution_count": 30,
   "id": "7db12677",
   "metadata": {},
   "outputs": [],
   "source": [
    "target= torch.rand((4,3,32,32))\n",
    "pred= target-0.01"
   ]
  },
  {
   "cell_type": "code",
   "execution_count": 31,
   "id": "14fbbffb",
   "metadata": {},
   "outputs": [
    {
     "data": {
      "text/plain": [
       "tensor(8044.0947, device='cuda:0')"
      ]
     },
     "execution_count": 31,
     "metadata": {},
     "output_type": "execute_result"
    }
   ],
   "source": [
    "vae.vae_loss_function(torch.sigmoid(pred), torch.sigmoid(target))"
   ]
  },
  {
   "cell_type": "code",
   "execution_count": 36,
   "id": "b4f5fc88",
   "metadata": {},
   "outputs": [
    {
     "name": "stdout",
     "output_type": "stream",
     "text": [
      "Finished: Wednesday January 18, 2023 at 18:19\n"
     ]
    }
   ],
   "source": [
    "import datetime as dt\n",
    "end=dt.datetime.now()\n",
    "print(f'Finished: {end.strftime(\"%A %B %d, %Y\")} at {end.strftime(\"%H:%M\")}')"
   ]
  }
 ],
 "metadata": {
  "kernelspec": {
   "display_name": "Python 3 (ipykernel)",
   "language": "python",
   "name": "python3"
  },
  "language_info": {
   "codemirror_mode": {
    "name": "ipython",
    "version": 3
   },
   "file_extension": ".py",
   "mimetype": "text/x-python",
   "name": "python",
   "nbconvert_exporter": "python",
   "pygments_lexer": "ipython3",
   "version": "3.10.4"
  },
  "toc": {
   "base_numbering": 1,
   "nav_menu": {},
   "number_sections": true,
   "sideBar": true,
   "skip_h1_title": false,
   "title_cell": "Table of Contents",
   "title_sidebar": "Contents",
   "toc_cell": false,
   "toc_position": {},
   "toc_section_display": true,
   "toc_window_display": false
  },
  "varInspector": {
   "cols": {
    "lenName": 16,
    "lenType": 16,
    "lenVar": 40
   },
   "kernels_config": {
    "python": {
     "delete_cmd_postfix": "",
     "delete_cmd_prefix": "del ",
     "library": "var_list.py",
     "varRefreshCmd": "print(var_dic_list())"
    },
    "r": {
     "delete_cmd_postfix": ") ",
     "delete_cmd_prefix": "rm(",
     "library": "var_list.r",
     "varRefreshCmd": "cat(var_dic_list()) "
    }
   },
   "types_to_exclude": [
    "module",
    "function",
    "builtin_function_or_method",
    "instance",
    "_Feature"
   ],
   "window_display": false
  }
 },
 "nbformat": 4,
 "nbformat_minor": 5
}
